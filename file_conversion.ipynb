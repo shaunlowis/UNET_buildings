{
 "cells": [
  {
   "cell_type": "code",
   "execution_count": 1,
   "id": "97eba911-9254-489d-923a-a12063323634",
   "metadata": {},
   "outputs": [],
   "source": [
    "import os, sys\n",
    "import numpy as np\n",
    "from PIL import Image"
   ]
  },
  {
   "cell_type": "code",
   "execution_count": 11,
   "id": "d653885a-99bd-4ded-9b65-293b51a0c028",
   "metadata": {},
   "outputs": [],
   "source": [
    "import gdal\n",
    "\n",
    "base = r'/home/shaun/python/uni_work/ML_project/input'\n",
    "\n",
    "target_dir = os.path.join(base, 'val_truth')\n",
    "out_dir = os.path.join(base, 'val_gdal_truth')\n",
    "    \n",
    "options_list = ['-ot Byte',\n",
    "                '-of JPEG',\n",
    "                '-b 1',\n",
    "                '-scale']           \n",
    "\n",
    "options_string = \" \".join(options_list)\n",
    "\n",
    "for infile in os.listdir(target_dir):\n",
    "\n",
    "    if infile[-3:] == \"tif\":\n",
    "        outfile = os.path.join(out_dir, infile[:-3] + \"jpeg\")\n",
    "        gdal.Translate(outfile,\n",
    "                       os.path.join(target_dir, infile),\n",
    "                       options=options_string)\n",
    "\n",
    "# The above code simply create a jpg file with band 1 scaled into byte range. \n",
    "# You could add more bands by adding, '-b 2' etc. \n",
    "# Also notice that scale automatically wraps the entire range into byte range. \n",
    "# If you like something else you could use '-scale min_val max_val' in order to specify the range you like, \n",
    "# since often you have no need of either the lowest or highest values available."
   ]
  },
  {
   "cell_type": "code",
   "execution_count": 30,
   "id": "2b90c018-355e-42c8-ac57-d930361c33b6",
   "metadata": {},
   "outputs": [],
   "source": [
    "import gdal\n",
    "\n",
    "base = r'/home/shaun/python/uni_work/ML_project/input'\n",
    "\n",
    "target_dir = os.path.join(base, 'val_mask')\n",
    "out_dir = os.path.join(base, 'val_gdal_mask')\n",
    "    \n",
    "options_list = ['-ot Byte',\n",
    "                '-of JPEG',\n",
    "                '-b mask',\n",
    "                '-scale']           \n",
    "\n",
    "options_string = \" \".join(options_list)\n",
    "\n",
    "for infile in os.listdir(target_dir):\n",
    "\n",
    "    if infile[-3:] == \"tif\":\n",
    "        outfile = os.path.join(out_dir, infile[:-3] + \"jpeg\")\n",
    "        gdal.Translate(outfile,\n",
    "                       os.path.join(target_dir, infile),\n",
    "                       options=options_string)"
   ]
  },
  {
   "cell_type": "markdown",
   "id": "3e35c870-d521-4906-9533-a57ed49b7e05",
   "metadata": {},
   "source": [
    "Figuring out what the output of the file conversion is looking like"
   ]
  },
  {
   "cell_type": "code",
   "execution_count": 24,
   "id": "786a1d12-082b-481a-a1d5-a99be864bd07",
   "metadata": {},
   "outputs": [
    {
     "data": {
      "image/png": "[encoded data removed]",
      "text/plain": [
       "<PIL.JpegImagePlugin.JpegImageFile image mode=L size=512x512 at 0x7F020D2B37C0>"
      ]
     },
     "execution_count": 24,
     "metadata": {},
     "output_type": "execute_result"
    }
   ],
   "source": [
    "base = r'/home/shaun/python/uni_work/ML_project/input/val_gdal_mask'\n",
    "file = r'rolleston_23040_13824.jpeg'\n",
    "tar_im = os.path.join(base, file)\n",
    "im = Image.open(tar_im)\n",
    "na = np.array(im)\n",
    "im"
   ]
  },
  {
   "cell_type": "code",
   "execution_count": 25,
   "id": "5ad929f2-0f05-4376-b93c-ede21a8c42b2",
   "metadata": {},
   "outputs": [
    {
     "data": {
      "image/png": "[encoded data removed]",
      "text/plain": [
       "<PIL.Image.Image image mode=L size=512x512 at 0x7F020D28FCD0>"
      ]
     },
     "execution_count": 25,
     "metadata": {},
     "output_type": "execute_result"
    }
   ],
   "source": [
    "# pixels = im.load() # create the pixel map\n",
    "\n",
    "for i in range(na.shape[0]): # for every pixel:\n",
    "    for j in range(na.shape[1]):\n",
    "        if na[i,j] > 100:\n",
    "            na[i,j] = 255\n",
    "        else:\n",
    "            na[i,j] = 0\n",
    "        \n",
    "out = Image.fromarray(na)\n",
    "out"
   ]
  },
  {
   "cell_type": "code",
   "execution_count": 19,
   "id": "34ce0050-06cb-40d3-9194-e3c8903171f3",
   "metadata": {},
   "outputs": [],
   "source": [
    "def rescale_masks(base_in, file, base_out):\n",
    "    impath = os.path.join(base_in, file)\n",
    "    im = Image.open(impath)\n",
    "    na = np.array(im)\n",
    "    \n",
    "    for i in range(na.shape[0]):\n",
    "        for j in range(na.shape[1]):\n",
    "            if na[i,j] > 100:\n",
    "                na[i,j] = 255\n",
    "            else:\n",
    "                na[i,j] = 0\n",
    "\n",
    "    out = Image.fromarray(na)\n",
    "    out.save(os.path.join(base_out, file))\n",
    "    im.close()\n",
    "    out.close()"
   ]
  },
  {
   "cell_type": "code",
   "execution_count": 26,
   "id": "dfa5a2e7-2120-4cc4-9195-8b052506879f",
   "metadata": {},
   "outputs": [],
   "source": [
    "base = r'/home/shaun/python/uni_work/ML_project/input'\n",
    "indir = os.path.join(base, 'mask_gdal_jpg')\n",
    "outdir = os.path.join(base, 'rescaled_masks')\n",
    "for file in os.listdir(indir):\n",
    "    rescale_masks(indir, file, outdir)"
   ]
  },
  {
   "cell_type": "code",
   "execution_count": null,
   "id": "a203c49e-0985-43c7-8eef-08df011fbb36",
   "metadata": {},
   "outputs": [],
   "source": []
  }
 ],
 "metadata": {
  "kernelspec": {
   "display_name": "Python 3 (ipykernel)",
   "language": "python",
   "name": "python3"
  },
  "language_info": {
   "codemirror_mode": {
    "name": "ipython",
    "version": 3
   },
   "file_extension": ".py",
   "mimetype": "text/x-python",
   "name": "python",
   "nbconvert_exporter": "python",
   "pygments_lexer": "ipython3",
   "version": "3.8.5"
  }
 },
 "nbformat": 4,
 "nbformat_minor": 5
}
